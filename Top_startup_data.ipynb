{
  "nbformat": 4,
  "nbformat_minor": 0,
  "metadata": {
    "colab": {
      "provenance": []
    },
    "kernelspec": {
      "name": "python3",
      "display_name": "Python 3"
    },
    "language_info": {
      "name": "python"
    }
  },
  "cells": [
    {
      "cell_type": "code",
      "execution_count": null,
      "metadata": {
        "id": "fWIllhuFKwL_"
      },
      "outputs": [],
      "source": [
        "from bs4 import BeautifulSoup\n",
        "import pandas as pd\n",
        "\n",
        "def extract_card_data(card):\n",
        "    data = {}\n",
        "\n",
        "    # Extract \"What they do:\" information\n",
        "    what_they_do_elem = card.find('b', id='card-header', text=\"What they do: \")\n",
        "    if what_they_do_elem:\n",
        "        # Navigate to the next element to get the text content\n",
        "        what_they_do_text = what_they_do_elem.find_next_sibling('br').next_sibling.strip()\n",
        "        data['description'] = what_they_do_text\n",
        "\n",
        "    # Extract industry tags\n",
        "    industry_tags = [tag.text.strip() for tag in card.find_all('span', class_='badge rounded-pill bg-success', id='industry-tags')]\n",
        "    data['industry'] = ', '.join(industry_tags)  # Convert list to comma-separated string\n",
        "\n",
        "    # Extract company size\n",
        "    company_size_elem = card.find('span', class_='badge rounded-pill bg-success', id='company-size-tags')\n",
        "    if company_size_elem:\n",
        "        company_size = company_size_elem.text.strip()\n",
        "        data['company_size'] = company_size\n",
        "\n",
        "    # Extract founded year\n",
        "    founded_elem = card.find('span', class_='badge rounded-pill bg-success', text=lambda text: text and text.startswith('Founded:'))\n",
        "    if founded_elem:\n",
        "        founded_year = founded_elem.text.replace('Founded: ', '').strip()\n",
        "        data['founded_year'] = founded_year\n",
        "\n",
        "    # Extract third funding information\n",
        "    funding_info_elems = card.find_all('span', class_='badge rounded-pill bg-primary', id='funding-tags')\n",
        "    if len(funding_info_elems) >= 1:\n",
        "        third_funding_info = funding_info_elems[-1].text.strip()\n",
        "        data['funding_amount'] = third_funding_info\n",
        "\n",
        "    # Extract URL and company name\n",
        "    div_tag = card.find('div', class_='col-8 col-md-9')\n",
        "    if div_tag:\n",
        "        a_tag = div_tag.find('a', href=True)\n",
        "        if a_tag:\n",
        "            url = a_tag['href']  # Extract URL from href attribute\n",
        "            company_name = a_tag.text.strip()  # Extract company name from text content of <a> tag\n",
        "            data['top_startup_url'] = url\n",
        "            data['company_name'] = company_name\n",
        "\n",
        "    return data\n",
        "\n",
        "# Specify the path to the saved HTML file\n",
        "html_file_path = \"/content/Top Startups 2024 - Sequoia, Y Combinator, A16Z, Accel (2)(6).html\"\n",
        "\n",
        "# Read the HTML content from the file\n",
        "with open(html_file_path, \"r\", encoding=\"utf-8\") as file:\n",
        "    html_content = file.read()\n",
        "\n",
        "# Parse the HTML content using BeautifulSoup\n",
        "soup = BeautifulSoup(html_content, 'html.parser')\n",
        "\n",
        "# Find all divs with class=\"col-12 col-md-6 col-xl-4 infinite-item\"\n",
        "items = soup.find_all('div', class_='col-12 col-md-6 col-xl-4 infinite-item')\n",
        "\n",
        "# List to store extracted data dictionaries\n",
        "data_list = []\n",
        "\n",
        "# Iterate over each item (card) and extract data\n",
        "for item in items:\n",
        "    card_data = extract_card_data(item)\n",
        "    data_list.append(card_data)\n",
        "\n",
        "# Create DataFrame from the list of data dictionaries\n",
        "df = pd.DataFrame(data_list)\n",
        "\n",
        "# Reorder columns in the DataFrame based on the specified order\n",
        "desired_columns = ['top_startup_url', 'company_name', 'description', 'founded_year', 'company_size', 'funding_amount', 'industry']\n",
        "df = df[desired_columns]\n",
        "\n",
        "# Display the DataFrame\n",
        "print(df)\n"
      ]
    },
    {
      "cell_type": "code",
      "source": [
        "# Specify the path to save the CSV file\n",
        "csv_file_path = \"/content/startup_data.csv\"\n",
        "\n",
        "# Save the DataFrame to a CSV file\n",
        "df.to_csv(csv_file_path, index=False)\n",
        "\n",
        "# Display a message indicating successful CSV file creation\n",
        "print(f\"CSV file saved successfully at: {csv_file_path}\")"
      ],
      "metadata": {
        "id": "gFrPn_vWK_21"
      },
      "execution_count": null,
      "outputs": []
    }
  ]
}